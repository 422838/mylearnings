{
 "cells": [
  {
   "cell_type": "code",
   "execution_count": 1,
   "id": "1e6c536f",
   "metadata": {},
   "outputs": [],
   "source": [
    "import pandas as pd\n",
    "import numpy as np\n",
    "from matplotlib import pyplot as plt\n",
    "import seaborn as sb"
   ]
  },
  {
   "cell_type": "code",
   "execution_count": 2,
   "id": "f9d5edb7",
   "metadata": {},
   "outputs": [],
   "source": [
    "data=pd.read_csv(r\"C:\\Users\\DELL\\Downloads\\KmeanClustering-main (1)\\KmeanClustering-main/Social_Network_Ads.csv\")"
   ]
  },
  {
   "cell_type": "code",
   "execution_count": 3,
   "id": "67d5e3ff",
   "metadata": {},
   "outputs": [
    {
     "data": {
      "text/html": [
       "<div>\n",
       "<style scoped>\n",
       "    .dataframe tbody tr th:only-of-type {\n",
       "        vertical-align: middle;\n",
       "    }\n",
       "\n",
       "    .dataframe tbody tr th {\n",
       "        vertical-align: top;\n",
       "    }\n",
       "\n",
       "    .dataframe thead th {\n",
       "        text-align: right;\n",
       "    }\n",
       "</style>\n",
       "<table border=\"1\" class=\"dataframe\">\n",
       "  <thead>\n",
       "    <tr style=\"text-align: right;\">\n",
       "      <th></th>\n",
       "      <th>User ID</th>\n",
       "      <th>Gender</th>\n",
       "      <th>Age</th>\n",
       "      <th>EstimatedSalary</th>\n",
       "      <th>Purchased</th>\n",
       "    </tr>\n",
       "  </thead>\n",
       "  <tbody>\n",
       "    <tr>\n",
       "      <th>0</th>\n",
       "      <td>15624510</td>\n",
       "      <td>Male</td>\n",
       "      <td>19</td>\n",
       "      <td>19000</td>\n",
       "      <td>0</td>\n",
       "    </tr>\n",
       "    <tr>\n",
       "      <th>1</th>\n",
       "      <td>15810944</td>\n",
       "      <td>Male</td>\n",
       "      <td>35</td>\n",
       "      <td>20000</td>\n",
       "      <td>0</td>\n",
       "    </tr>\n",
       "    <tr>\n",
       "      <th>2</th>\n",
       "      <td>15668575</td>\n",
       "      <td>Female</td>\n",
       "      <td>26</td>\n",
       "      <td>43000</td>\n",
       "      <td>0</td>\n",
       "    </tr>\n",
       "    <tr>\n",
       "      <th>3</th>\n",
       "      <td>15603246</td>\n",
       "      <td>Female</td>\n",
       "      <td>27</td>\n",
       "      <td>57000</td>\n",
       "      <td>0</td>\n",
       "    </tr>\n",
       "    <tr>\n",
       "      <th>4</th>\n",
       "      <td>15804002</td>\n",
       "      <td>Male</td>\n",
       "      <td>19</td>\n",
       "      <td>76000</td>\n",
       "      <td>0</td>\n",
       "    </tr>\n",
       "    <tr>\n",
       "      <th>...</th>\n",
       "      <td>...</td>\n",
       "      <td>...</td>\n",
       "      <td>...</td>\n",
       "      <td>...</td>\n",
       "      <td>...</td>\n",
       "    </tr>\n",
       "    <tr>\n",
       "      <th>395</th>\n",
       "      <td>15691863</td>\n",
       "      <td>Female</td>\n",
       "      <td>46</td>\n",
       "      <td>41000</td>\n",
       "      <td>1</td>\n",
       "    </tr>\n",
       "    <tr>\n",
       "      <th>396</th>\n",
       "      <td>15706071</td>\n",
       "      <td>Male</td>\n",
       "      <td>51</td>\n",
       "      <td>23000</td>\n",
       "      <td>1</td>\n",
       "    </tr>\n",
       "    <tr>\n",
       "      <th>397</th>\n",
       "      <td>15654296</td>\n",
       "      <td>Female</td>\n",
       "      <td>50</td>\n",
       "      <td>20000</td>\n",
       "      <td>1</td>\n",
       "    </tr>\n",
       "    <tr>\n",
       "      <th>398</th>\n",
       "      <td>15755018</td>\n",
       "      <td>Male</td>\n",
       "      <td>36</td>\n",
       "      <td>33000</td>\n",
       "      <td>0</td>\n",
       "    </tr>\n",
       "    <tr>\n",
       "      <th>399</th>\n",
       "      <td>15594041</td>\n",
       "      <td>Female</td>\n",
       "      <td>49</td>\n",
       "      <td>36000</td>\n",
       "      <td>1</td>\n",
       "    </tr>\n",
       "  </tbody>\n",
       "</table>\n",
       "<p>400 rows × 5 columns</p>\n",
       "</div>"
      ],
      "text/plain": [
       "      User ID  Gender  Age  EstimatedSalary  Purchased\n",
       "0    15624510    Male   19            19000          0\n",
       "1    15810944    Male   35            20000          0\n",
       "2    15668575  Female   26            43000          0\n",
       "3    15603246  Female   27            57000          0\n",
       "4    15804002    Male   19            76000          0\n",
       "..        ...     ...  ...              ...        ...\n",
       "395  15691863  Female   46            41000          1\n",
       "396  15706071    Male   51            23000          1\n",
       "397  15654296  Female   50            20000          1\n",
       "398  15755018    Male   36            33000          0\n",
       "399  15594041  Female   49            36000          1\n",
       "\n",
       "[400 rows x 5 columns]"
      ]
     },
     "execution_count": 3,
     "metadata": {},
     "output_type": "execute_result"
    }
   ],
   "source": [
    "data"
   ]
  },
  {
   "cell_type": "code",
   "execution_count": 4,
   "id": "d89bd1a6",
   "metadata": {},
   "outputs": [],
   "source": [
    "mydata=data.drop([\"User ID\"],axis=1)"
   ]
  },
  {
   "cell_type": "code",
   "execution_count": 5,
   "id": "065c84c5",
   "metadata": {},
   "outputs": [
    {
     "data": {
      "text/html": [
       "<div>\n",
       "<style scoped>\n",
       "    .dataframe tbody tr th:only-of-type {\n",
       "        vertical-align: middle;\n",
       "    }\n",
       "\n",
       "    .dataframe tbody tr th {\n",
       "        vertical-align: top;\n",
       "    }\n",
       "\n",
       "    .dataframe thead th {\n",
       "        text-align: right;\n",
       "    }\n",
       "</style>\n",
       "<table border=\"1\" class=\"dataframe\">\n",
       "  <thead>\n",
       "    <tr style=\"text-align: right;\">\n",
       "      <th></th>\n",
       "      <th>Gender</th>\n",
       "      <th>Age</th>\n",
       "      <th>EstimatedSalary</th>\n",
       "      <th>Purchased</th>\n",
       "    </tr>\n",
       "  </thead>\n",
       "  <tbody>\n",
       "    <tr>\n",
       "      <th>0</th>\n",
       "      <td>Male</td>\n",
       "      <td>19</td>\n",
       "      <td>19000</td>\n",
       "      <td>0</td>\n",
       "    </tr>\n",
       "    <tr>\n",
       "      <th>1</th>\n",
       "      <td>Male</td>\n",
       "      <td>35</td>\n",
       "      <td>20000</td>\n",
       "      <td>0</td>\n",
       "    </tr>\n",
       "    <tr>\n",
       "      <th>2</th>\n",
       "      <td>Female</td>\n",
       "      <td>26</td>\n",
       "      <td>43000</td>\n",
       "      <td>0</td>\n",
       "    </tr>\n",
       "    <tr>\n",
       "      <th>3</th>\n",
       "      <td>Female</td>\n",
       "      <td>27</td>\n",
       "      <td>57000</td>\n",
       "      <td>0</td>\n",
       "    </tr>\n",
       "    <tr>\n",
       "      <th>4</th>\n",
       "      <td>Male</td>\n",
       "      <td>19</td>\n",
       "      <td>76000</td>\n",
       "      <td>0</td>\n",
       "    </tr>\n",
       "    <tr>\n",
       "      <th>...</th>\n",
       "      <td>...</td>\n",
       "      <td>...</td>\n",
       "      <td>...</td>\n",
       "      <td>...</td>\n",
       "    </tr>\n",
       "    <tr>\n",
       "      <th>395</th>\n",
       "      <td>Female</td>\n",
       "      <td>46</td>\n",
       "      <td>41000</td>\n",
       "      <td>1</td>\n",
       "    </tr>\n",
       "    <tr>\n",
       "      <th>396</th>\n",
       "      <td>Male</td>\n",
       "      <td>51</td>\n",
       "      <td>23000</td>\n",
       "      <td>1</td>\n",
       "    </tr>\n",
       "    <tr>\n",
       "      <th>397</th>\n",
       "      <td>Female</td>\n",
       "      <td>50</td>\n",
       "      <td>20000</td>\n",
       "      <td>1</td>\n",
       "    </tr>\n",
       "    <tr>\n",
       "      <th>398</th>\n",
       "      <td>Male</td>\n",
       "      <td>36</td>\n",
       "      <td>33000</td>\n",
       "      <td>0</td>\n",
       "    </tr>\n",
       "    <tr>\n",
       "      <th>399</th>\n",
       "      <td>Female</td>\n",
       "      <td>49</td>\n",
       "      <td>36000</td>\n",
       "      <td>1</td>\n",
       "    </tr>\n",
       "  </tbody>\n",
       "</table>\n",
       "<p>400 rows × 4 columns</p>\n",
       "</div>"
      ],
      "text/plain": [
       "     Gender  Age  EstimatedSalary  Purchased\n",
       "0      Male   19            19000          0\n",
       "1      Male   35            20000          0\n",
       "2    Female   26            43000          0\n",
       "3    Female   27            57000          0\n",
       "4      Male   19            76000          0\n",
       "..      ...  ...              ...        ...\n",
       "395  Female   46            41000          1\n",
       "396    Male   51            23000          1\n",
       "397  Female   50            20000          1\n",
       "398    Male   36            33000          0\n",
       "399  Female   49            36000          1\n",
       "\n",
       "[400 rows x 4 columns]"
      ]
     },
     "execution_count": 5,
     "metadata": {},
     "output_type": "execute_result"
    }
   ],
   "source": [
    "mydata"
   ]
  },
  {
   "cell_type": "code",
   "execution_count": 6,
   "id": "990d90b4",
   "metadata": {},
   "outputs": [
    {
     "data": {
      "text/html": [
       "<div>\n",
       "<style scoped>\n",
       "    .dataframe tbody tr th:only-of-type {\n",
       "        vertical-align: middle;\n",
       "    }\n",
       "\n",
       "    .dataframe tbody tr th {\n",
       "        vertical-align: top;\n",
       "    }\n",
       "\n",
       "    .dataframe thead th {\n",
       "        text-align: right;\n",
       "    }\n",
       "</style>\n",
       "<table border=\"1\" class=\"dataframe\">\n",
       "  <thead>\n",
       "    <tr style=\"text-align: right;\">\n",
       "      <th></th>\n",
       "      <th>Gender</th>\n",
       "      <th>Age</th>\n",
       "      <th>EstimatedSalary</th>\n",
       "    </tr>\n",
       "  </thead>\n",
       "  <tbody>\n",
       "    <tr>\n",
       "      <th>0</th>\n",
       "      <td>Male</td>\n",
       "      <td>19</td>\n",
       "      <td>19000</td>\n",
       "    </tr>\n",
       "    <tr>\n",
       "      <th>1</th>\n",
       "      <td>Male</td>\n",
       "      <td>35</td>\n",
       "      <td>20000</td>\n",
       "    </tr>\n",
       "    <tr>\n",
       "      <th>2</th>\n",
       "      <td>Female</td>\n",
       "      <td>26</td>\n",
       "      <td>43000</td>\n",
       "    </tr>\n",
       "    <tr>\n",
       "      <th>3</th>\n",
       "      <td>Female</td>\n",
       "      <td>27</td>\n",
       "      <td>57000</td>\n",
       "    </tr>\n",
       "    <tr>\n",
       "      <th>4</th>\n",
       "      <td>Male</td>\n",
       "      <td>19</td>\n",
       "      <td>76000</td>\n",
       "    </tr>\n",
       "    <tr>\n",
       "      <th>...</th>\n",
       "      <td>...</td>\n",
       "      <td>...</td>\n",
       "      <td>...</td>\n",
       "    </tr>\n",
       "    <tr>\n",
       "      <th>395</th>\n",
       "      <td>Female</td>\n",
       "      <td>46</td>\n",
       "      <td>41000</td>\n",
       "    </tr>\n",
       "    <tr>\n",
       "      <th>396</th>\n",
       "      <td>Male</td>\n",
       "      <td>51</td>\n",
       "      <td>23000</td>\n",
       "    </tr>\n",
       "    <tr>\n",
       "      <th>397</th>\n",
       "      <td>Female</td>\n",
       "      <td>50</td>\n",
       "      <td>20000</td>\n",
       "    </tr>\n",
       "    <tr>\n",
       "      <th>398</th>\n",
       "      <td>Male</td>\n",
       "      <td>36</td>\n",
       "      <td>33000</td>\n",
       "    </tr>\n",
       "    <tr>\n",
       "      <th>399</th>\n",
       "      <td>Female</td>\n",
       "      <td>49</td>\n",
       "      <td>36000</td>\n",
       "    </tr>\n",
       "  </tbody>\n",
       "</table>\n",
       "<p>400 rows × 3 columns</p>\n",
       "</div>"
      ],
      "text/plain": [
       "     Gender  Age  EstimatedSalary\n",
       "0      Male   19            19000\n",
       "1      Male   35            20000\n",
       "2    Female   26            43000\n",
       "3    Female   27            57000\n",
       "4      Male   19            76000\n",
       "..      ...  ...              ...\n",
       "395  Female   46            41000\n",
       "396    Male   51            23000\n",
       "397  Female   50            20000\n",
       "398    Male   36            33000\n",
       "399  Female   49            36000\n",
       "\n",
       "[400 rows x 3 columns]"
      ]
     },
     "execution_count": 6,
     "metadata": {},
     "output_type": "execute_result"
    }
   ],
   "source": [
    "x_feature=mydata.iloc[:,0:3]\n",
    "x_feature"
   ]
  },
  {
   "cell_type": "code",
   "execution_count": 7,
   "id": "3eb29f9e",
   "metadata": {},
   "outputs": [
    {
     "data": {
      "text/plain": [
       "0      0\n",
       "1      0\n",
       "2      0\n",
       "3      0\n",
       "4      0\n",
       "      ..\n",
       "395    1\n",
       "396    1\n",
       "397    1\n",
       "398    0\n",
       "399    1\n",
       "Name: Purchased, Length: 400, dtype: int64"
      ]
     },
     "execution_count": 7,
     "metadata": {},
     "output_type": "execute_result"
    }
   ],
   "source": [
    "y_target=mydata.iloc[:,3]\n",
    "y_target"
   ]
  },
  {
   "cell_type": "code",
   "execution_count": 8,
   "id": "d04c004b",
   "metadata": {},
   "outputs": [],
   "source": [
    "x_feature[\"Gender\"]=x_feature[\"Gender\"].map({\"Male\":0,\"Female\":1})"
   ]
  },
  {
   "cell_type": "code",
   "execution_count": 9,
   "id": "3587ff93",
   "metadata": {},
   "outputs": [],
   "source": [
    "from sklearn.model_selection import train_test_split"
   ]
  },
  {
   "cell_type": "code",
   "execution_count": 10,
   "id": "629ff732",
   "metadata": {},
   "outputs": [],
   "source": [
    "Xtrain,Xtest,Ytrain,Ytest=train_test_split(x_feature,y_target,test_size=.30,random_state=101)"
   ]
  },
  {
   "cell_type": "code",
   "execution_count": 11,
   "id": "abfa3fd8",
   "metadata": {},
   "outputs": [
    {
     "data": {
      "text/html": [
       "<div>\n",
       "<style scoped>\n",
       "    .dataframe tbody tr th:only-of-type {\n",
       "        vertical-align: middle;\n",
       "    }\n",
       "\n",
       "    .dataframe tbody tr th {\n",
       "        vertical-align: top;\n",
       "    }\n",
       "\n",
       "    .dataframe thead th {\n",
       "        text-align: right;\n",
       "    }\n",
       "</style>\n",
       "<table border=\"1\" class=\"dataframe\">\n",
       "  <thead>\n",
       "    <tr style=\"text-align: right;\">\n",
       "      <th></th>\n",
       "      <th>Gender</th>\n",
       "      <th>Age</th>\n",
       "      <th>EstimatedSalary</th>\n",
       "    </tr>\n",
       "  </thead>\n",
       "  <tbody>\n",
       "    <tr>\n",
       "      <th>38</th>\n",
       "      <td>1</td>\n",
       "      <td>26</td>\n",
       "      <td>72000</td>\n",
       "    </tr>\n",
       "    <tr>\n",
       "      <th>387</th>\n",
       "      <td>0</td>\n",
       "      <td>39</td>\n",
       "      <td>71000</td>\n",
       "    </tr>\n",
       "    <tr>\n",
       "      <th>270</th>\n",
       "      <td>1</td>\n",
       "      <td>43</td>\n",
       "      <td>133000</td>\n",
       "    </tr>\n",
       "    <tr>\n",
       "      <th>181</th>\n",
       "      <td>1</td>\n",
       "      <td>31</td>\n",
       "      <td>71000</td>\n",
       "    </tr>\n",
       "    <tr>\n",
       "      <th>195</th>\n",
       "      <td>0</td>\n",
       "      <td>34</td>\n",
       "      <td>43000</td>\n",
       "    </tr>\n",
       "    <tr>\n",
       "      <th>...</th>\n",
       "      <td>...</td>\n",
       "      <td>...</td>\n",
       "      <td>...</td>\n",
       "    </tr>\n",
       "    <tr>\n",
       "      <th>228</th>\n",
       "      <td>1</td>\n",
       "      <td>40</td>\n",
       "      <td>72000</td>\n",
       "    </tr>\n",
       "    <tr>\n",
       "      <th>178</th>\n",
       "      <td>0</td>\n",
       "      <td>24</td>\n",
       "      <td>23000</td>\n",
       "    </tr>\n",
       "    <tr>\n",
       "      <th>267</th>\n",
       "      <td>0</td>\n",
       "      <td>37</td>\n",
       "      <td>74000</td>\n",
       "    </tr>\n",
       "    <tr>\n",
       "      <th>147</th>\n",
       "      <td>1</td>\n",
       "      <td>41</td>\n",
       "      <td>30000</td>\n",
       "    </tr>\n",
       "    <tr>\n",
       "      <th>230</th>\n",
       "      <td>1</td>\n",
       "      <td>35</td>\n",
       "      <td>147000</td>\n",
       "    </tr>\n",
       "  </tbody>\n",
       "</table>\n",
       "<p>120 rows × 3 columns</p>\n",
       "</div>"
      ],
      "text/plain": [
       "     Gender  Age  EstimatedSalary\n",
       "38        1   26            72000\n",
       "387       0   39            71000\n",
       "270       1   43           133000\n",
       "181       1   31            71000\n",
       "195       0   34            43000\n",
       "..      ...  ...              ...\n",
       "228       1   40            72000\n",
       "178       0   24            23000\n",
       "267       0   37            74000\n",
       "147       1   41            30000\n",
       "230       1   35           147000\n",
       "\n",
       "[120 rows x 3 columns]"
      ]
     },
     "execution_count": 11,
     "metadata": {},
     "output_type": "execute_result"
    }
   ],
   "source": [
    "Xtest"
   ]
  },
  {
   "cell_type": "code",
   "execution_count": 12,
   "id": "93944729",
   "metadata": {},
   "outputs": [],
   "source": [
    "from sklearn.neighbors import KNeighborsClassifier"
   ]
  },
  {
   "cell_type": "code",
   "execution_count": 13,
   "id": "56591825",
   "metadata": {},
   "outputs": [],
   "source": [
    "trainer=KNeighborsClassifier(n_neighbors=5)"
   ]
  },
  {
   "cell_type": "code",
   "execution_count": 14,
   "id": "1d9b9c30",
   "metadata": {},
   "outputs": [],
   "source": [
    "learner=trainer.fit(Xtrain,Ytrain)"
   ]
  },
  {
   "cell_type": "code",
   "execution_count": 15,
   "id": "05f01cf0",
   "metadata": {},
   "outputs": [],
   "source": [
    "index_lable=pd.Series([\"not purchased\",\"purchased\"])"
   ]
  },
  {
   "cell_type": "code",
   "execution_count": 16,
   "id": "7748f204",
   "metadata": {},
   "outputs": [
    {
     "name": "stdout",
     "output_type": "stream",
     "text": [
      "[0]\n",
      "you are 0    not purchased\n",
      "dtype: object\n"
     ]
    }
   ],
   "source": [
    "o=learner.predict([[3,27,57000]])\n",
    "print(o)\n",
    "print(\"you are {}\".format(index_lable[o]))"
   ]
  },
  {
   "cell_type": "code",
   "execution_count": 17,
   "id": "7fd3d158",
   "metadata": {},
   "outputs": [],
   "source": [
    "yp=learner.predict(Xtest)\n",
    "ya=Ytest"
   ]
  },
  {
   "cell_type": "code",
   "execution_count": 18,
   "id": "c26de614",
   "metadata": {},
   "outputs": [],
   "source": [
    "acc_table=pd.DataFrame({\"YP\":list(ya),\"YP\":list(yp)})"
   ]
  },
  {
   "cell_type": "code",
   "execution_count": 19,
   "id": "566a6161",
   "metadata": {},
   "outputs": [
    {
     "data": {
      "text/html": [
       "<div>\n",
       "<style scoped>\n",
       "    .dataframe tbody tr th:only-of-type {\n",
       "        vertical-align: middle;\n",
       "    }\n",
       "\n",
       "    .dataframe tbody tr th {\n",
       "        vertical-align: top;\n",
       "    }\n",
       "\n",
       "    .dataframe thead th {\n",
       "        text-align: right;\n",
       "    }\n",
       "</style>\n",
       "<table border=\"1\" class=\"dataframe\">\n",
       "  <thead>\n",
       "    <tr style=\"text-align: right;\">\n",
       "      <th></th>\n",
       "      <th>YP</th>\n",
       "    </tr>\n",
       "  </thead>\n",
       "  <tbody>\n",
       "    <tr>\n",
       "      <th>0</th>\n",
       "      <td>0</td>\n",
       "    </tr>\n",
       "    <tr>\n",
       "      <th>1</th>\n",
       "      <td>0</td>\n",
       "    </tr>\n",
       "    <tr>\n",
       "      <th>2</th>\n",
       "      <td>1</td>\n",
       "    </tr>\n",
       "    <tr>\n",
       "      <th>3</th>\n",
       "      <td>0</td>\n",
       "    </tr>\n",
       "    <tr>\n",
       "      <th>4</th>\n",
       "      <td>0</td>\n",
       "    </tr>\n",
       "  </tbody>\n",
       "</table>\n",
       "</div>"
      ],
      "text/plain": [
       "   YP\n",
       "0   0\n",
       "1   0\n",
       "2   1\n",
       "3   0\n",
       "4   0"
      ]
     },
     "execution_count": 19,
     "metadata": {},
     "output_type": "execute_result"
    }
   ],
   "source": [
    "acc_table.head()"
   ]
  },
  {
   "cell_type": "code",
   "execution_count": 20,
   "id": "36fadf26",
   "metadata": {},
   "outputs": [],
   "source": [
    "from sklearn.metrics import accuracy_score"
   ]
  },
  {
   "cell_type": "code",
   "execution_count": 21,
   "id": "e330b27c",
   "metadata": {},
   "outputs": [],
   "source": [
    "knn_score=accuracy_score(ya,yp)*100"
   ]
  },
  {
   "cell_type": "code",
   "execution_count": 22,
   "id": "c14d1230",
   "metadata": {},
   "outputs": [
    {
     "data": {
      "text/plain": [
       "80.0"
      ]
     },
     "execution_count": 22,
     "metadata": {},
     "output_type": "execute_result"
    }
   ],
   "source": [
    "knn_score"
   ]
  },
  {
   "cell_type": "code",
   "execution_count": 23,
   "id": "941bd3b1",
   "metadata": {},
   "outputs": [],
   "source": [
    "k=int(np.sqrt(len(Xtrain)))+1"
   ]
  },
  {
   "cell_type": "code",
   "execution_count": 24,
   "id": "01e15207",
   "metadata": {},
   "outputs": [],
   "source": [
    "k_range=list(range(1,k))"
   ]
  },
  {
   "cell_type": "code",
   "execution_count": 25,
   "id": "33c9f056",
   "metadata": {},
   "outputs": [
    {
     "data": {
      "text/plain": [
       "[1, 2, 3, 4, 5, 6, 7, 8, 9, 10, 11, 12, 13, 14, 15, 16]"
      ]
     },
     "execution_count": 25,
     "metadata": {},
     "output_type": "execute_result"
    }
   ],
   "source": [
    "k_range"
   ]
  },
  {
   "cell_type": "code",
   "execution_count": 26,
   "id": "3bb820b3",
   "metadata": {},
   "outputs": [
    {
     "name": "stdout",
     "output_type": "stream",
     "text": [
      "Accuracy of knn is 0.8166666666666667 at k=1\n",
      "Accuracy of knn is 0.8416666666666667 at k=2\n",
      "Accuracy of knn is 0.8 at k=3\n",
      "Accuracy of knn is 0.8333333333333334 at k=4\n",
      "Accuracy of knn is 0.8 at k=5\n",
      "Accuracy of knn is 0.8333333333333334 at k=6\n",
      "Accuracy of knn is 0.825 at k=7\n",
      "Accuracy of knn is 0.8333333333333334 at k=8\n",
      "Accuracy of knn is 0.8333333333333334 at k=9\n",
      "Accuracy of knn is 0.825 at k=10\n",
      "Accuracy of knn is 0.825 at k=11\n",
      "Accuracy of knn is 0.825 at k=12\n",
      "Accuracy of knn is 0.825 at k=13\n",
      "Accuracy of knn is 0.8333333333333334 at k=14\n",
      "Accuracy of knn is 0.825 at k=15\n",
      "Accuracy of knn is 0.825 at k=16\n"
     ]
    }
   ],
   "source": [
    "acc_list=[]\n",
    "for i in range(1,k):\n",
    "    knn_trainer=KNeighborsClassifier(n_neighbors=i)\n",
    "    knn_learner=knn_trainer.fit(Xtrain,Ytrain)\n",
    "    yknn_prediction=knn_learner.predict(Xtest)\n",
    "    knn_acc=accuracy_score(yknn_prediction,ya)\n",
    "    acc_list.append(knn_acc)\n",
    "    print(\"Accuracy of knn is {} at k={}\".format(knn_acc,i))"
   ]
  },
  {
   "cell_type": "code",
   "execution_count": 27,
   "id": "e1ba5d33",
   "metadata": {},
   "outputs": [
    {
     "data": {
      "text/plain": [
       "1"
      ]
     },
     "execution_count": 27,
     "metadata": {},
     "output_type": "execute_result"
    }
   ],
   "source": [
    "acc_list_array=np.array(acc_list)\n",
    "acc_list_array.argmax()"
   ]
  },
  {
   "cell_type": "code",
   "execution_count": 28,
   "id": "25b5c388",
   "metadata": {},
   "outputs": [
    {
     "name": "stdout",
     "output_type": "stream",
     "text": [
      "Max accuracy 0.8416666666666667 is at k=2\n"
     ]
    }
   ],
   "source": [
    "print(\"Max accuracy {} is at k={}\".format(acc_list_array[acc_list_array.argmax()],acc_list_array.argmax()+1))"
   ]
  },
  {
   "cell_type": "code",
   "execution_count": 29,
   "id": "efaea5d2",
   "metadata": {},
   "outputs": [
    {
     "data": {
      "image/png": "[encoded data removed]",
      "text/plain": [
       "<Figure size 432x288 with 1 Axes>"
      ]
     },
     "metadata": {
      "needs_background": "light"
     },
     "output_type": "display_data"
    }
   ],
   "source": [
    "plt.plot(k_range,acc_list,'b+')\n",
    "plt.plot(k_range,acc_list,'r*-')\n",
    "plt.xlabel(\"k..>\")\n",
    "plt.ylabel(\"Accuracy score\")\n",
    "plt.show()\n"
   ]
  },
  {
   "cell_type": "code",
   "execution_count": 30,
   "id": "b9d7bee8",
   "metadata": {},
   "outputs": [],
   "source": [
    "#Feature Scaling"
   ]
  },
  {
   "cell_type": "code",
   "execution_count": 31,
   "id": "1d1d0d39",
   "metadata": {},
   "outputs": [
    {
     "data": {
      "text/html": [
       "<div>\n",
       "<style scoped>\n",
       "    .dataframe tbody tr th:only-of-type {\n",
       "        vertical-align: middle;\n",
       "    }\n",
       "\n",
       "    .dataframe tbody tr th {\n",
       "        vertical-align: top;\n",
       "    }\n",
       "\n",
       "    .dataframe thead th {\n",
       "        text-align: right;\n",
       "    }\n",
       "</style>\n",
       "<table border=\"1\" class=\"dataframe\">\n",
       "  <thead>\n",
       "    <tr style=\"text-align: right;\">\n",
       "      <th></th>\n",
       "      <th>Gender</th>\n",
       "      <th>Age</th>\n",
       "      <th>EstimatedSalary</th>\n",
       "    </tr>\n",
       "  </thead>\n",
       "  <tbody>\n",
       "    <tr>\n",
       "      <th>0</th>\n",
       "      <td>0</td>\n",
       "      <td>19</td>\n",
       "      <td>19000</td>\n",
       "    </tr>\n",
       "  </tbody>\n",
       "</table>\n",
       "</div>"
      ],
      "text/plain": [
       "   Gender  Age  EstimatedSalary\n",
       "0       0   19            19000"
      ]
     },
     "execution_count": 31,
     "metadata": {},
     "output_type": "execute_result"
    }
   ],
   "source": [
    "x_feature.head(1)"
   ]
  },
  {
   "cell_type": "code",
   "execution_count": 32,
   "id": "0ed3b18d",
   "metadata": {},
   "outputs": [
    {
     "data": {
      "text/plain": [
       "Gender                 0.510\n",
       "Age                   37.655\n",
       "EstimatedSalary    69742.500\n",
       "dtype: float64"
      ]
     },
     "execution_count": 32,
     "metadata": {},
     "output_type": "execute_result"
    }
   ],
   "source": [
    "x_feature.mean()"
   ]
  },
  {
   "cell_type": "code",
   "execution_count": 33,
   "id": "d05c9e6f",
   "metadata": {},
   "outputs": [
    {
     "data": {
      "text/plain": [
       "Gender                 0.500526\n",
       "Age                   10.482877\n",
       "EstimatedSalary    34096.960282\n",
       "dtype: float64"
      ]
     },
     "execution_count": 33,
     "metadata": {},
     "output_type": "execute_result"
    }
   ],
   "source": [
    "x_feature.std()"
   ]
  },
  {
   "cell_type": "code",
   "execution_count": 34,
   "id": "27a1052a",
   "metadata": {},
   "outputs": [],
   "source": [
    "xxfeature=x_feature"
   ]
  },
  {
   "cell_type": "code",
   "execution_count": 35,
   "id": "4196679e",
   "metadata": {},
   "outputs": [],
   "source": [
    "from sklearn.preprocessing import StandardScaler,MinMaxScaler"
   ]
  },
  {
   "cell_type": "code",
   "execution_count": 36,
   "id": "1e16cc0b",
   "metadata": {},
   "outputs": [],
   "source": [
    "minMaxScaler=MinMaxScaler()\n",
    "stdScaler=StandardScaler()"
   ]
  },
  {
   "cell_type": "code",
   "execution_count": 37,
   "id": "f022cd60",
   "metadata": {},
   "outputs": [],
   "source": [
    "xx_scaleFeature=minMaxScaler.fit_transform(xxfeature)"
   ]
  },
  {
   "cell_type": "code",
   "execution_count": 38,
   "id": "b1e7fe8f",
   "metadata": {},
   "outputs": [
    {
     "data": {
      "text/plain": [
       "0.46115873015873016"
      ]
     },
     "execution_count": 38,
     "metadata": {},
     "output_type": "execute_result"
    }
   ],
   "source": [
    "xx_scaleFeature.mean()"
   ]
  },
  {
   "cell_type": "code",
   "execution_count": 39,
   "id": "1b96a5b5",
   "metadata": {},
   "outputs": [
    {
     "data": {
      "text/plain": [
       "0.35646532384450974"
      ]
     },
     "execution_count": 39,
     "metadata": {},
     "output_type": "execute_result"
    }
   ],
   "source": [
    "xx_scaleFeature.std()"
   ]
  },
  {
   "cell_type": "code",
   "execution_count": 40,
   "id": "7c1e07f4",
   "metadata": {},
   "outputs": [],
   "source": [
    "xx_std_scalefeature=stdScaler.fit_transform(xxfeature)"
   ]
  },
  {
   "cell_type": "code",
   "execution_count": 41,
   "id": "884056e4",
   "metadata": {},
   "outputs": [
    {
     "data": {
      "text/plain": [
       "0"
      ]
     },
     "execution_count": 41,
     "metadata": {},
     "output_type": "execute_result"
    }
   ],
   "source": [
    "round(xx_std_scalefeature.mean())"
   ]
  },
  {
   "cell_type": "code",
   "execution_count": 42,
   "id": "5dada644",
   "metadata": {},
   "outputs": [
    {
     "data": {
      "text/plain": [
       "1"
      ]
     },
     "execution_count": 42,
     "metadata": {},
     "output_type": "execute_result"
    }
   ],
   "source": [
    "round(xx_std_scalefeature.std())"
   ]
  },
  {
   "cell_type": "code",
   "execution_count": 43,
   "id": "8eaa6f1f",
   "metadata": {},
   "outputs": [],
   "source": [
    "#Training with xx_scalefeature"
   ]
  },
  {
   "cell_type": "code",
   "execution_count": 44,
   "id": "ff9fab9f",
   "metadata": {},
   "outputs": [],
   "source": [
    "Xstrain,Xstest,Ystrain,Ystest=train_test_split(xx_scaleFeature,y_target,test_size=.30,random_state=101)"
   ]
  },
  {
   "cell_type": "code",
   "execution_count": 45,
   "id": "a15d2114",
   "metadata": {},
   "outputs": [
    {
     "name": "stdout",
     "output_type": "stream",
     "text": [
      "Accuracy of knn is 0.825 at k=1\n",
      "Accuracy of knn is 0.825 at k=2\n",
      "Accuracy of knn is 0.825 at k=3\n",
      "Accuracy of knn is 0.825 at k=4\n",
      "Accuracy of knn is 0.825 at k=5\n",
      "Accuracy of knn is 0.825 at k=6\n",
      "Accuracy of knn is 0.825 at k=7\n",
      "Accuracy of knn is 0.825 at k=8\n",
      "Accuracy of knn is 0.825 at k=9\n",
      "Accuracy of knn is 0.825 at k=10\n",
      "Accuracy of knn is 0.825 at k=11\n",
      "Accuracy of knn is 0.825 at k=12\n",
      "Accuracy of knn is 0.825 at k=13\n",
      "Accuracy of knn is 0.825 at k=14\n",
      "Accuracy of knn is 0.825 at k=15\n",
      "Accuracy of knn is 0.825 at k=16\n"
     ]
    }
   ],
   "source": [
    "acc_list_sc=[]\n",
    "for i in range(1,k):\n",
    "    knn_trainer_sc=KNeighborsClassifier(n_neighbors=i)\n",
    "    knn_learner_sc=knn_trainer_sc.fit(Xstrain,Ystrain)\n",
    "    yp=knn_learner_sc.predict(Xstest)\n",
    "    knn_acc_sc=accuracy_score(yp,Ystest)\n",
    "    acc_list_sc.append(knn_acc_sc)\n",
    "    print(\"Accuracy of knn is {} at k={}\".format(knn_acc,i))"
   ]
  },
  {
   "cell_type": "code",
   "execution_count": 46,
   "id": "d54bc609",
   "metadata": {},
   "outputs": [
    {
     "data": {
      "image/png": "[encoded data removed]",
      "text/plain": [
       "<Figure size 432x288 with 1 Axes>"
      ]
     },
     "metadata": {
      "needs_background": "light"
     },
     "output_type": "display_data"
    }
   ],
   "source": [
    "plt.plot(k_range,acc_list_sc,'b+')\n",
    "plt.plot(k_range,acc_list_sc,'r*-')\n",
    "plt.xlabel(\"k..>\")\n",
    "plt.ylabel(\"Accuracy score\")\n",
    "plt.show()\n"
   ]
  },
  {
   "cell_type": "code",
   "execution_count": 47,
   "id": "1d056874",
   "metadata": {},
   "outputs": [],
   "source": [
    "#Training with xx_std_scalefeature"
   ]
  },
  {
   "cell_type": "code",
   "execution_count": 48,
   "id": "018d5c6f",
   "metadata": {},
   "outputs": [],
   "source": [
    "Xstdtrain,Xstdtest,Ystdtrain,Ystdtest=train_test_split(xx_std_scalefeature,y_target,test_size=.30,random_state=101)"
   ]
  },
  {
   "cell_type": "code",
   "execution_count": 49,
   "id": "3116ed34",
   "metadata": {},
   "outputs": [
    {
     "name": "stdout",
     "output_type": "stream",
     "text": [
      "Accuracy of knn is 0.9 at k=1\n",
      "Accuracy of knn is 0.9083333333333333 at k=2\n",
      "Accuracy of knn is 0.9333333333333333 at k=3\n",
      "Accuracy of knn is 0.9333333333333333 at k=4\n",
      "Accuracy of knn is 0.9416666666666667 at k=5\n",
      "Accuracy of knn is 0.9333333333333333 at k=6\n",
      "Accuracy of knn is 0.9166666666666666 at k=7\n",
      "Accuracy of knn is 0.925 at k=8\n",
      "Accuracy of knn is 0.925 at k=9\n",
      "Accuracy of knn is 0.925 at k=10\n",
      "Accuracy of knn is 0.925 at k=11\n",
      "Accuracy of knn is 0.925 at k=12\n",
      "Accuracy of knn is 0.925 at k=13\n",
      "Accuracy of knn is 0.9333333333333333 at k=14\n",
      "Accuracy of knn is 0.925 at k=15\n",
      "Accuracy of knn is 0.9333333333333333 at k=16\n"
     ]
    }
   ],
   "source": [
    "acc_list_std=[]\n",
    "for i in range(1,k):\n",
    "    knn_trainer_std=KNeighborsClassifier(n_neighbors=i)\n",
    "    knn_learner_std=knn_trainer_std.fit(Xstdtrain,Ystdtrain)\n",
    "    yp=knn_learner_std.predict(Xstdtest)\n",
    "    knn_acc_std=accuracy_score(yp,Ystdtest)\n",
    "    acc_list_std.append(knn_acc_std)\n",
    "    print(\"Accuracy of knn is {} at k={}\".format(knn_acc_std,i))"
   ]
  },
  {
   "cell_type": "code",
   "execution_count": 50,
   "id": "7b3dc99e",
   "metadata": {},
   "outputs": [
    {
     "data": {
      "image/png": "[encoded data removed]",
      "text/plain": [
       "<Figure size 432x288 with 1 Axes>"
      ]
     },
     "metadata": {
      "needs_background": "light"
     },
     "output_type": "display_data"
    }
   ],
   "source": [
    "plt.plot(k_range,acc_list_std,'g+')\n",
    "plt.plot(k_range,acc_list_std,'b*-')\n",
    "plt.xlabel(\"k..>\")\n",
    "plt.ylabel(\"Accuracy score\")\n",
    "plt.show()\n"
   ]
  },
  {
   "cell_type": "code",
   "execution_count": null,
   "id": "81ac7dde",
   "metadata": {},
   "outputs": [],
   "source": []
  }
 ],
 "metadata": {
  "kernelspec": {
   "display_name": "Python 3",
   "language": "python",
   "name": "python3"
  },
  "language_info": {
   "codemirror_mode": {
    "name": "ipython",
    "version": 3
   },
   "file_extension": ".py",
   "mimetype": "text/x-python",
   "name": "python",
   "nbconvert_exporter": "python",
   "pygments_lexer": "ipython3",
   "version": "3.8.8"
  }
 },
 "nbformat": 4,
 "nbformat_minor": 5
}
